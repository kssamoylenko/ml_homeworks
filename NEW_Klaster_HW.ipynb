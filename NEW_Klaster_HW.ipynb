{
 "cells": [
  {
   "cell_type": "code",
   "execution_count": 45,
   "metadata": {
    "collapsed": true
   },
   "outputs": [],
   "source": [
    "import pandas as pd\n",
    "import re\n",
    "import pymorphy2 as pm"
   ]
  },
  {
   "cell_type": "markdown",
   "metadata": {},
   "source": [
    "### Посмотрим, сколько статей есть о каждом событии"
   ]
  },
  {
   "cell_type": "code",
   "execution_count": 46,
   "metadata": {},
   "outputs": [
    {
     "data": {
      "text/plain": [
       "<matplotlib.axes._subplots.AxesSubplot at 0x14808e8d0>"
      ]
     },
     "execution_count": 46,
     "metadata": {},
     "output_type": "execute_result"
    },
    {
     "data": {
      "image/png": "[encoded data removed]",
      "text/plain": [
       "<matplotlib.figure.Figure at 0x116704128>"
      ]
     },
     "metadata": {},
     "output_type": "display_data"
    }
   ],
   "source": [
    "%matplotlib inline \n",
    "news = pd.read_csv('raw_news.csv', index_col=0)\n",
    "number_of_articles = news.groupby('event_id').size()\n",
    "number_of_articles.plot.bar()"
   ]
  },
  {
   "cell_type": "markdown",
   "metadata": {},
   "source": [
    "## Часть 1. Предобработка"
   ]
  },
  {
   "cell_type": "code",
   "execution_count": 47,
   "metadata": {
    "collapsed": true
   },
   "outputs": [],
   "source": [
    "morph = pm.MorphAnalyzer()#лемматизируем с помощью pymorphy. работает долго)\n",
    "def words(str):\n",
    "    nolinks = ' '.join([word for word in str.split() if (not re.findall('https?://\\w.*|\\w+\\.\\w+', word))])#удалили ссылки\n",
    "    clean_line = re.sub('[\\W\\d_-]+', ' ', nolinks.lower().strip())\n",
    "    ws = re.split(' +', clean_line)\n",
    "    return [morph.parse(w)[0].normal_form for w in ws]\n",
    "df = pd.read_csv('raw_news.csv', index_col=0)\n",
    "no_dup_df = df.drop_duplicates(keep='first')\n",
    "texts = no_dup_df['text'] #прочитали тексты\n",
    "text_list = [' '.join(words(text)) for text in texts] # список списков слов \n"
   ]
  },
  {
   "cell_type": "markdown",
   "metadata": {},
   "source": [
    "## Часть 2.  Кластеризация (28 кластеров)"
   ]
  },
  {
   "cell_type": "code",
   "execution_count": 48,
   "metadata": {},
   "outputs": [
    {
     "name": "stdout",
     "output_type": "stream",
     "text": [
      "Explained variance of the SVD step: 99%\n"
     ]
    }
   ],
   "source": [
    "from __future__ import print_function\n",
    "\n",
    "\n",
    "from sklearn.decomposition import TruncatedSVD\n",
    "from sklearn.feature_extraction.text import *\n",
    "from sklearn.pipeline import *\n",
    "from sklearn.preprocessing import Normalizer\n",
    "from sklearn.metrics import *\n",
    "from sklearn.cluster import *\n",
    "import numpy as np\n",
    "from sklearn.pipeline import Pipeline\n",
    "from sklearn.feature_extraction.text import *\n",
    "\n",
    "pipeline = Pipeline([\n",
    "      ('vect', CountVectorizer(max_df=0.9, min_df=0.20, ngram_range=(1,3), analyzer='word')),\n",
    "      ('tfidf', TfidfTransformer()),\n",
    "      ('svd', TruncatedSVD(n_components=133)),\n",
    "      ('norm', Normalizer() ),\n",
    "      ('clust', KMeans(n_clusters=28))\n",
    "])\n",
    "\n",
    "pipeline.fit(text_list)\n",
    "#применили все методы, которые были в лабораторной.как сингулярное разложение и tfidf влияют на качество кластеризации надо\n",
    "#посмотреть на нескольких примерах и придумать, как их вывести (сингулярное вроде не особо, tfidf очень сильно)\n",
    "explained_variance = pipeline.named_steps['svd'].explained_variance_ratio_.sum()\n",
    "print(\"Explained variance of the SVD step: {}%\".format(int(explained_variance * 100)))"
   ]
  },
  {
   "cell_type": "code",
   "execution_count": 72,
   "metadata": {},
   "outputs": [
    {
     "name": "stdout",
     "output_type": "stream",
     "text": [
      "Explained variance of the SVD step: 99%\n"
     ]
    }
   ],
   "source": [
    "from __future__ import print_function\n",
    "\n",
    "from sklearn import cluster\n",
    "from sklearn.decomposition import TruncatedSVD\n",
    "from sklearn.feature_extraction.text import *\n",
    "from sklearn.pipeline import *\n",
    "from sklearn.preprocessing import Normalizer\n",
    "from sklearn.metrics import *\n",
    "from sklearn.cluster import *\n",
    "import numpy as np\n",
    "from sklearn.pipeline import Pipeline\n",
    "from sklearn.feature_extraction.text import *\n",
    "\n",
    "pipeline = Pipeline([\n",
    "      ('vect', CountVectorizer(max_df=0.9, min_df=0.20, ngram_range=(1,3), analyzer='word', stop_words='english')),\n",
    "      ('tfidf', TfidfTransformer()),\n",
    "      ('svd', TruncatedSVD(n_components=133)),\n",
    "      ('norm', Normalizer() ),\n",
    "      ('clust', KMeans(n_clusters=28))\n",
    "])\n",
    "\n",
    "pipeline.fit(text_list)\n",
    "#применили все методы, которые были в лабораторной.как сингулярное разложение и tfidf влияют на качество кластеризации надо\n",
    "#посмотреть на нескольких примерах и придумать, как их вывести (сингулярное вроде не особо, tfidf очень сильно)\n",
    "explained_variance = pipeline.named_steps['svd'].explained_variance_ratio_.sum()\n",
    "print(\"Explained variance of the SVD step: {}%\".format(int(explained_variance * 100)))"
   ]
  },
  {
   "cell_type": "code",
   "execution_count": 73,
   "metadata": {},
   "outputs": [
    {
     "name": "stdout",
     "output_type": "stream",
     "text": [
      "Explained variance of the SVD step: 61%\n"
     ]
    }
   ],
   "source": [
    "pipeline = Pipeline([\n",
    "      ('vect', CountVectorizer(max_df=0.9, min_df=0.10, ngram_range=(1,5), analyzer='word', stop_words='english')),\n",
    "      ('tfidf', TfidfTransformer()),\n",
    "      ('svd', TruncatedSVD(n_components=50)),\n",
    "      ('norm', Normalizer() ),\n",
    "      ('clust', KMeans(n_clusters=28))\n",
    "])\n",
    "\n",
    "pipeline.fit(text_list)\n",
    "\n",
    "explained_variance = pipeline.named_steps['svd'].explained_variance_ratio_.sum()\n",
    "print(\"Explained variance of the SVD step: {}%\".format(int(explained_variance * 100)))"
   ]
  },
  {
   "cell_type": "code",
   "execution_count": 74,
   "metadata": {},
   "outputs": [
    {
     "name": "stdout",
     "output_type": "stream",
     "text": [
      "28\n",
      "Homogeneity: 0.842320662772\n",
      "Completeness: 0.81630096602\n",
      "V-measure 0.829106721851\n",
      "Adjusted Rand-Index: 0.673367377802\n"
     ]
    }
   ],
   "source": [
    "clust_labels = pipeline.named_steps['clust'].labels_\n",
    "labels = no_dup_df['event_id']\n",
    "print(len(set(clust_labels)))\n",
    "print(\"Homogeneity:\", homogeneity_score(labels, clust_labels))\n",
    "print(\"Completeness:\", completeness_score(labels, clust_labels))\n",
    "print(\"V-measure\",  v_measure_score(labels, clust_labels))\n",
    "print(\"Adjusted Rand-Index:\",  adjusted_rand_score(labels, clust_labels))"
   ]
  },
  {
   "cell_type": "markdown",
   "metadata": {},
   "source": [
    "# а если не делать tfidf"
   ]
  },
  {
   "cell_type": "code",
   "execution_count": 75,
   "metadata": {},
   "outputs": [
    {
     "name": "stdout",
     "output_type": "stream",
     "text": [
      "Explained variance of the SVD step: 99%\n"
     ]
    }
   ],
   "source": [
    "pipeline = Pipeline([\n",
    "      ('vect', CountVectorizer(max_df=0.9, min_df=0.20, ngram_range=(1,3), analyzer='word', stop_words='english')),\n",
    "      ('svd', TruncatedSVD(n_components=133)),\n",
    "      ('norm', Normalizer() ),\n",
    "      ('clust', KMeans(n_clusters=28))\n",
    "])\n",
    "\n",
    "pipeline.fit(text_list)\n",
    "explained_variance = pipeline.named_steps['svd'].explained_variance_ratio_.sum()\n",
    "print(\"Explained variance of the SVD step: {}%\".format(int(explained_variance * 100)))"
   ]
  },
  {
   "cell_type": "code",
   "execution_count": 76,
   "metadata": {},
   "outputs": [
    {
     "name": "stdout",
     "output_type": "stream",
     "text": [
      "28\n",
      "Homogeneity: 0.600610158424\n",
      "Completeness: 0.580571123067\n",
      "V-measure 0.590420657127\n",
      "Adjusted Rand-Index: 0.366558186884\n"
     ]
    }
   ],
   "source": [
    "clust_labels = pipeline.named_steps['clust'].labels_\n",
    "labels = no_dup_df['event_id']\n",
    "print(len(set(clust_labels)))\n",
    "print(\"Homogeneity:\", homogeneity_score(labels, clust_labels))\n",
    "print(\"Completeness:\", completeness_score(labels, clust_labels))\n",
    "print(\"V-measure\",  v_measure_score(labels, clust_labels))\n",
    "print(\"Adjusted Rand-Index:\",  adjusted_rand_score(labels, clust_labels))"
   ]
  },
  {
   "cell_type": "markdown",
   "metadata": {},
   "source": [
    "### А теперь спектральная кластеризация"
   ]
  },
  {
   "cell_type": "code",
   "execution_count": 77,
   "metadata": {},
   "outputs": [
    {
     "name": "stdout",
     "output_type": "stream",
     "text": [
      "Explained variance of the SVD step: 93%\n"
     ]
    }
   ],
   "source": [
    "#spectral clustering\n",
    "pipeline = Pipeline([\n",
    "      ('vect', CountVectorizer(max_df=0.9, min_df=0.20, ngram_range=(1,2), analyzer='word', stop_words='english')),\n",
    "      ('tfidf', TfidfTransformer()),\n",
    "      ('svd', TruncatedSVD(n_components=100)),\n",
    "      ('norm', Normalizer() ),\n",
    "      ('clust', SpectralClustering(n_clusters=28))\n",
    "])\n",
    "\n",
    "pipeline.fit(text_list)\n",
    "explained_variance = pipeline.named_steps['svd'].explained_variance_ratio_.sum()\n",
    "print(\"Explained variance of the SVD step: {}%\".format(int(explained_variance * 100)))"
   ]
  },
  {
   "cell_type": "code",
   "execution_count": 78,
   "metadata": {},
   "outputs": [
    {
     "name": "stdout",
     "output_type": "stream",
     "text": [
      "28\n",
      "Homogeneity: 0.663870803236\n",
      "Completeness: 0.641997201689\n",
      "V-measure 0.652750808433\n",
      "Adjusted Rand-Index: 0.42098049905\n"
     ]
    }
   ],
   "source": [
    "clust_labels = pipeline.named_steps['clust'].labels_\n",
    "labels = no_dup_df['event_id']\n",
    "print(len(set(clust_labels)))\n",
    "print(\"Homogeneity:\", homogeneity_score(labels, clust_labels))\n",
    "print(\"Completeness:\", completeness_score(labels, clust_labels))\n",
    "print(\"V-measure\",  v_measure_score(labels, clust_labels))\n",
    "print(\"Adjusted Rand-Index:\",  adjusted_rand_score(labels, clust_labels))"
   ]
  },
  {
   "cell_type": "markdown",
   "metadata": {},
   "source": [
    "## Аггломеративная кластеризация"
   ]
  },
  {
   "cell_type": "code",
   "execution_count": 84,
   "metadata": {},
   "outputs": [
    {
     "name": "stdout",
     "output_type": "stream",
     "text": [
      "Explained variance of the SVD step: 99%\n"
     ]
    }
   ],
   "source": [
    "#Agglomerative Clustering\n",
    "pipeline = Pipeline([\n",
    "      ('vect', CountVectorizer(max_df=0.9, min_df=0.20, ngram_range=(1,3), analyzer='word', stop_words='english')),\n",
    "      ('tfidf', TfidfTransformer()),\n",
    "      ('svd', TruncatedSVD(n_components=133)),\n",
    "      ('norm', Normalizer() ),\n",
    "      ('clust', AgglomerativeClustering(n_clusters=28))\n",
    "])\n",
    "\n",
    "pipeline.fit(text_list)\n",
    "explained_variance = pipeline.named_steps['svd'].explained_variance_ratio_.sum()\n",
    "print(\"Explained variance of the SVD step: {}%\".format(int(explained_variance * 100)))"
   ]
  },
  {
   "cell_type": "code",
   "execution_count": 85,
   "metadata": {},
   "outputs": [
    {
     "name": "stdout",
     "output_type": "stream",
     "text": [
      "28\n",
      "Homogeneity: 0.676961791261\n",
      "Completeness: 0.659259792026\n",
      "V-measure 0.667993535351\n",
      "Adjusted Rand-Index: 0.437474228535\n"
     ]
    }
   ],
   "source": [
    "clust_labels = pipeline.named_steps['clust'].labels_\n",
    "labels = no_dup_df['event_id']\n",
    "print(len(set(clust_labels)))\n",
    "print(\"Homogeneity:\", homogeneity_score(labels, clust_labels))\n",
    "print(\"Completeness:\", completeness_score(labels, clust_labels))\n",
    "print(\"V-measure\",  v_measure_score(labels, clust_labels))\n",
    "print(\"Adjusted Rand-Index:\",  adjusted_rand_score(labels, clust_labels))"
   ]
  },
  {
   "cell_type": "markdown",
   "metadata": {
    "collapsed": true
   },
   "source": [
    "# Часть 3. Задали маленькое число кластеров"
   ]
  },
  {
   "cell_type": "code",
   "execution_count": 53,
   "metadata": {},
   "outputs": [
    {
     "name": "stdout",
     "output_type": "stream",
     "text": [
      "Explained variance of the SVD step: 79%\n"
     ]
    }
   ],
   "source": [
    "text_list2 = text_list\n",
    "pipeline = Pipeline([\n",
    "      ('vect', CountVectorizer(max_df=0.9, min_df=0.1, ngram_range=(1,5), analyzer='word', stop_words='english')),\n",
    "      ('tfidf', TfidfTransformer()),\n",
    "      ('svd', TruncatedSVD(n_components=130)),\n",
    "      ('norm', Normalizer() ),\n",
    "      ('clust', KMeans(n_clusters=5))\n",
    "])\n",
    "\n",
    "pipeline.fit(text_list2)\n",
    "explained_variance = pipeline.named_steps['svd'].explained_variance_ratio_.sum()\n",
    "print(\"Explained variance of the SVD step: {}%\".format(int(explained_variance * 100)))"
   ]
  },
  {
   "cell_type": "code",
   "execution_count": 54,
   "metadata": {},
   "outputs": [
    {
     "name": "stdout",
     "output_type": "stream",
     "text": [
      "5\n",
      "Homogeneity: 0.428304229595\n",
      "Completeness: 0.879793954149\n",
      "V-measure 0.576133315399\n",
      "Adjusted Rand-Index: 0.239332482077\n"
     ]
    }
   ],
   "source": [
    "clust_labels = pipeline.named_steps['clust'].labels_\n",
    "labels = no_dup_df['event_id']\n",
    "print(len(set(clust_labels)))\n",
    "#как видно из результатов, полнота высокая, а вот Homogeneity сильно упала по сравнению с теми же параметрами, но для 28 кластеров\n",
    "print(\"Homogeneity:\", homogeneity_score(labels, clust_labels))\n",
    "print(\"Completeness:\", completeness_score(labels, clust_labels))\n",
    "print(\"V-measure\",  v_measure_score(labels, clust_labels))\n",
    "print(\"Adjusted Rand-Index:\",  adjusted_rand_score(labels, clust_labels))"
   ]
  },
  {
   "cell_type": "code",
   "execution_count": 82,
   "metadata": {},
   "outputs": [
    {
     "name": "stdout",
     "output_type": "stream",
     "text": [
      "Explained variance of the SVD step: 79%\n"
     ]
    }
   ],
   "source": [
    "#spectral clustering\n",
    "text_list2 = text_list\n",
    "pipeline = Pipeline([\n",
    "      ('vect', CountVectorizer(max_df=0.9, min_df=0.1, ngram_range=(1,5), analyzer='word', stop_words='english')),\n",
    "      ('tfidf', TfidfTransformer()),\n",
    "      ('svd', TruncatedSVD(n_components=130)),\n",
    "      ('norm', Normalizer() ),\n",
    "      ('clust', SpectralClustering(n_clusters=5))\n",
    "])\n",
    "\n",
    "pipeline.fit(text_list2)\n",
    "explained_variance = pipeline.named_steps['svd'].explained_variance_ratio_.sum()\n",
    "print(\"Explained variance of the SVD step: {}%\".format(int(explained_variance * 100)))"
   ]
  },
  {
   "cell_type": "code",
   "execution_count": 83,
   "metadata": {},
   "outputs": [
    {
     "name": "stdout",
     "output_type": "stream",
     "text": [
      "5\n",
      "Homogeneity: 0.313822323256\n",
      "Completeness: 0.703191365547\n",
      "V-measure 0.43397085105\n",
      "Adjusted Rand-Index: 0.130648287708\n"
     ]
    }
   ],
   "source": [
    "clust_labels = pipeline.named_steps['clust'].labels_\n",
    "labels = no_dup_df['event_id']\n",
    "print(len(set(clust_labels)))\n",
    "print(\"Homogeneity:\", homogeneity_score(labels, clust_labels))\n",
    "print(\"Completeness:\", completeness_score(labels, clust_labels))\n",
    "print(\"V-measure\",  v_measure_score(labels, clust_labels))\n",
    "print(\"Adjusted Rand-Index:\",  adjusted_rand_score(labels, clust_labels))"
   ]
  },
  {
   "cell_type": "code",
   "execution_count": 86,
   "metadata": {},
   "outputs": [
    {
     "name": "stdout",
     "output_type": "stream",
     "text": [
      "Explained variance of the SVD step: 79%\n"
     ]
    }
   ],
   "source": [
    "#HAC\n",
    "text_list2 = text_list\n",
    "pipeline = Pipeline([\n",
    "      ('vect', CountVectorizer(max_df=0.9, min_df=0.1, ngram_range=(1,5), analyzer='word', stop_words='english')),\n",
    "      ('tfidf', TfidfTransformer()),\n",
    "      ('svd', TruncatedSVD(n_components=130)),\n",
    "      ('norm', Normalizer() ),\n",
    "      ('clust', AgglomerativeClustering(n_clusters=5))\n",
    "])\n",
    "\n",
    "pipeline.fit(text_list2)\n",
    "explained_variance = pipeline.named_steps['svd'].explained_variance_ratio_.sum()\n",
    "print(\"Explained variance of the SVD step: {}%\".format(int(explained_variance * 100)))"
   ]
  },
  {
   "cell_type": "code",
   "execution_count": 87,
   "metadata": {},
   "outputs": [
    {
     "name": "stdout",
     "output_type": "stream",
     "text": [
      "5\n",
      "Homogeneity: 0.390910045628\n",
      "Completeness: 0.880725664889\n",
      "V-measure 0.541482921563\n",
      "Adjusted Rand-Index: 0.180692931037\n"
     ]
    }
   ],
   "source": [
    "clust_labels = pipeline.named_steps['clust'].labels_\n",
    "labels = no_dup_df['event_id']\n",
    "print(len(set(clust_labels)))\n",
    "print(\"Homogeneity:\", homogeneity_score(labels, clust_labels))\n",
    "print(\"Completeness:\", completeness_score(labels, clust_labels))\n",
    "print(\"V-measure\",  v_measure_score(labels, clust_labels))\n",
    "print(\"Adjusted Rand-Index:\",  adjusted_rand_score(labels, clust_labels))"
   ]
  },
  {
   "cell_type": "code",
   "execution_count": 55,
   "metadata": {},
   "outputs": [
    {
     "ename": "KeyError",
     "evalue": "513",
     "output_type": "error",
     "traceback": [
      "\u001b[0;31m---------------------------------------------------------------------------\u001b[0m",
      "\u001b[0;31mKeyError\u001b[0m                                  Traceback (most recent call last)",
      "\u001b[0;32m<ipython-input-55-41b513a341e4>\u001b[0m in \u001b[0;36m<module>\u001b[0;34m()\u001b[0m\n\u001b[1;32m     16\u001b[0m     \u001b[0;32mif\u001b[0m \u001b[0;34m(\u001b[0m\u001b[0;32mnot\u001b[0m \u001b[0mclust_labels\u001b[0m\u001b[0;34m[\u001b[0m\u001b[0mi\u001b[0m\u001b[0;34m]\u001b[0m \u001b[0;32min\u001b[0m \u001b[0mrealKeys\u001b[0m\u001b[0;34m)\u001b[0m\u001b[0;34m:\u001b[0m\u001b[0;34m\u001b[0m\u001b[0m\n\u001b[1;32m     17\u001b[0m         \u001b[0mrealKeys\u001b[0m\u001b[0;34m[\u001b[0m\u001b[0mclust_labels\u001b[0m\u001b[0;34m[\u001b[0m\u001b[0mi\u001b[0m\u001b[0;34m]\u001b[0m\u001b[0;34m]\u001b[0m \u001b[0;34m=\u001b[0m \u001b[0;34m[\u001b[0m\u001b[0;34m]\u001b[0m\u001b[0;34m\u001b[0m\u001b[0m\n\u001b[0;32m---> 18\u001b[0;31m     \u001b[0mrealKeys\u001b[0m\u001b[0;34m[\u001b[0m\u001b[0mclust_labels\u001b[0m\u001b[0;34m[\u001b[0m\u001b[0mi\u001b[0m\u001b[0;34m]\u001b[0m\u001b[0;34m]\u001b[0m\u001b[0;34m.\u001b[0m\u001b[0mappend\u001b[0m\u001b[0;34m(\u001b[0m\u001b[0mlabels\u001b[0m\u001b[0;34m[\u001b[0m\u001b[0mi\u001b[0m\u001b[0;34m]\u001b[0m\u001b[0;34m)\u001b[0m\u001b[0;34m\u001b[0m\u001b[0m\n\u001b[0m\u001b[1;32m     19\u001b[0m \u001b[0mrealSorted\u001b[0m \u001b[0;34m=\u001b[0m \u001b[0;34m{\u001b[0m\u001b[0;34m}\u001b[0m\u001b[0;34m\u001b[0m\u001b[0m\n\u001b[1;32m     20\u001b[0m \u001b[0;32mfor\u001b[0m \u001b[0mk\u001b[0m\u001b[0;34m,\u001b[0m \u001b[0mv\u001b[0m \u001b[0;32min\u001b[0m \u001b[0mrealKeys\u001b[0m\u001b[0;34m.\u001b[0m\u001b[0mitems\u001b[0m\u001b[0;34m(\u001b[0m\u001b[0;34m)\u001b[0m\u001b[0;34m:\u001b[0m\u001b[0;34m\u001b[0m\u001b[0m\n",
      "\u001b[0;32m/Users/ika/anaconda/lib/python3.6/site-packages/pandas/core/series.py\u001b[0m in \u001b[0;36m__getitem__\u001b[0;34m(self, key)\u001b[0m\n\u001b[1;32m    599\u001b[0m         \u001b[0mkey\u001b[0m \u001b[0;34m=\u001b[0m \u001b[0mcom\u001b[0m\u001b[0;34m.\u001b[0m\u001b[0m_apply_if_callable\u001b[0m\u001b[0;34m(\u001b[0m\u001b[0mkey\u001b[0m\u001b[0;34m,\u001b[0m \u001b[0mself\u001b[0m\u001b[0;34m)\u001b[0m\u001b[0;34m\u001b[0m\u001b[0m\n\u001b[1;32m    600\u001b[0m         \u001b[0;32mtry\u001b[0m\u001b[0;34m:\u001b[0m\u001b[0;34m\u001b[0m\u001b[0m\n\u001b[0;32m--> 601\u001b[0;31m             \u001b[0mresult\u001b[0m \u001b[0;34m=\u001b[0m \u001b[0mself\u001b[0m\u001b[0;34m.\u001b[0m\u001b[0mindex\u001b[0m\u001b[0;34m.\u001b[0m\u001b[0mget_value\u001b[0m\u001b[0;34m(\u001b[0m\u001b[0mself\u001b[0m\u001b[0;34m,\u001b[0m \u001b[0mkey\u001b[0m\u001b[0;34m)\u001b[0m\u001b[0;34m\u001b[0m\u001b[0m\n\u001b[0m\u001b[1;32m    602\u001b[0m \u001b[0;34m\u001b[0m\u001b[0m\n\u001b[1;32m    603\u001b[0m             \u001b[0;32mif\u001b[0m \u001b[0;32mnot\u001b[0m \u001b[0mis_scalar\u001b[0m\u001b[0;34m(\u001b[0m\u001b[0mresult\u001b[0m\u001b[0;34m)\u001b[0m\u001b[0;34m:\u001b[0m\u001b[0;34m\u001b[0m\u001b[0m\n",
      "\u001b[0;32m/Users/ika/anaconda/lib/python3.6/site-packages/pandas/core/indexes/base.py\u001b[0m in \u001b[0;36mget_value\u001b[0;34m(self, series, key)\u001b[0m\n\u001b[1;32m   2426\u001b[0m         \u001b[0;32mtry\u001b[0m\u001b[0;34m:\u001b[0m\u001b[0;34m\u001b[0m\u001b[0m\n\u001b[1;32m   2427\u001b[0m             return self._engine.get_value(s, k,\n\u001b[0;32m-> 2428\u001b[0;31m                                           tz=getattr(series.dtype, 'tz', None))\n\u001b[0m\u001b[1;32m   2429\u001b[0m         \u001b[0;32mexcept\u001b[0m \u001b[0mKeyError\u001b[0m \u001b[0;32mas\u001b[0m \u001b[0me1\u001b[0m\u001b[0;34m:\u001b[0m\u001b[0;34m\u001b[0m\u001b[0m\n\u001b[1;32m   2430\u001b[0m             \u001b[0;32mif\u001b[0m \u001b[0mlen\u001b[0m\u001b[0;34m(\u001b[0m\u001b[0mself\u001b[0m\u001b[0;34m)\u001b[0m \u001b[0;34m>\u001b[0m \u001b[0;36m0\u001b[0m \u001b[0;32mand\u001b[0m \u001b[0mself\u001b[0m\u001b[0;34m.\u001b[0m\u001b[0minferred_type\u001b[0m \u001b[0;32min\u001b[0m \u001b[0;34m[\u001b[0m\u001b[0;34m'integer'\u001b[0m\u001b[0;34m,\u001b[0m \u001b[0;34m'boolean'\u001b[0m\u001b[0;34m]\u001b[0m\u001b[0;34m:\u001b[0m\u001b[0;34m\u001b[0m\u001b[0m\n",
      "\u001b[0;32mpandas/_libs/index.pyx\u001b[0m in \u001b[0;36mpandas._libs.index.IndexEngine.get_value (pandas/_libs/index.c:4363)\u001b[0;34m()\u001b[0m\n",
      "\u001b[0;32mpandas/_libs/index.pyx\u001b[0m in \u001b[0;36mpandas._libs.index.IndexEngine.get_value (pandas/_libs/index.c:4046)\u001b[0;34m()\u001b[0m\n",
      "\u001b[0;32mpandas/_libs/index.pyx\u001b[0m in \u001b[0;36mpandas._libs.index.IndexEngine.get_loc (pandas/_libs/index.c:5085)\u001b[0;34m()\u001b[0m\n",
      "\u001b[0;32mpandas/_libs/hashtable_class_helper.pxi\u001b[0m in \u001b[0;36mpandas._libs.hashtable.Int64HashTable.get_item (pandas/_libs/hashtable.c:13913)\u001b[0;34m()\u001b[0m\n",
      "\u001b[0;32mpandas/_libs/hashtable_class_helper.pxi\u001b[0m in \u001b[0;36mpandas._libs.hashtable.Int64HashTable.get_item (pandas/_libs/hashtable.c:13857)\u001b[0;34m()\u001b[0m\n",
      "\u001b[0;31mKeyError\u001b[0m: 513"
     ]
    }
   ],
   "source": [
    "#не очень симпатинчй\n",
    "class TextProcessor():\n",
    "    def __init__(self):\n",
    "        self.ws = {}\n",
    "    def send(self, word):\n",
    "        if(not (word in self.ws)):\n",
    "            self.ws[word] = 0\n",
    "        self.ws[word] += 1\n",
    "    def words(self):\n",
    "        return self.ws\n",
    "    def sorted(self, count):\n",
    "        all = sorted(list(self.ws.items()), key=lambda w: -w[1])\n",
    "        return all[:count]\n",
    "realKeys = {}\n",
    "for i in range(len(clust_labels)):\n",
    "    if (not clust_labels[i] in realKeys):\n",
    "        realKeys[clust_labels[i]] = []\n",
    "    realKeys[clust_labels[i]].append(labels[i])\n",
    "realSorted = {}\n",
    "for k, v in realKeys.items():\n",
    "    proc = TextProcessor()\n",
    "    for w in v:\n",
    "        proc.send(w)\n",
    "    realSorted[k] = proc.sorted(100)\n",
    "print(realSorted)"
   ]
  },
  {
   "cell_type": "code",
   "execution_count": 56,
   "metadata": {
    "collapsed": true
   },
   "outputs": [],
   "source": [
    "ef = pd.read_csv('events.csv', index_col=0)\n",
    "evs = {}\n",
    "for k in range(len(ef['name'])):\n",
    "     evs[k + 1] = ef['name'][k+1]"
   ]
  },
  {
   "cell_type": "code",
   "execution_count": 57,
   "metadata": {},
   "outputs": [
    {
     "ename": "NameError",
     "evalue": "name 'realSorted' is not defined",
     "output_type": "error",
     "traceback": [
      "\u001b[0;31m---------------------------------------------------------------------------\u001b[0m",
      "\u001b[0;31mNameError\u001b[0m                                 Traceback (most recent call last)",
      "\u001b[0;32m<ipython-input-57-778edd710f11>\u001b[0m in \u001b[0;36m<module>\u001b[0;34m()\u001b[0m\n\u001b[1;32m      1\u001b[0m \u001b[0mpretty\u001b[0m \u001b[0;34m=\u001b[0m \u001b[0;34m{\u001b[0m\u001b[0;34m}\u001b[0m\u001b[0;34m\u001b[0m\u001b[0m\n\u001b[0;32m----> 2\u001b[0;31m \u001b[0;32mfor\u001b[0m \u001b[0mk\u001b[0m\u001b[0;34m,\u001b[0m \u001b[0mv\u001b[0m \u001b[0;32min\u001b[0m \u001b[0mrealSorted\u001b[0m\u001b[0;34m.\u001b[0m\u001b[0mitems\u001b[0m\u001b[0;34m(\u001b[0m\u001b[0;34m)\u001b[0m\u001b[0;34m:\u001b[0m\u001b[0;34m\u001b[0m\u001b[0m\n\u001b[0m\u001b[1;32m      3\u001b[0m     \u001b[0mpretty\u001b[0m\u001b[0;34m[\u001b[0m\u001b[0mk\u001b[0m\u001b[0;34m]\u001b[0m \u001b[0;34m=\u001b[0m \u001b[0;34m[\u001b[0m\u001b[0;34m(\u001b[0m\u001b[0mevs\u001b[0m\u001b[0;34m[\u001b[0m\u001b[0me\u001b[0m\u001b[0;34m[\u001b[0m\u001b[0;36m0\u001b[0m\u001b[0;34m]\u001b[0m\u001b[0;34m]\u001b[0m\u001b[0;34m,\u001b[0m \u001b[0me\u001b[0m\u001b[0;34m[\u001b[0m\u001b[0;36m1\u001b[0m\u001b[0;34m]\u001b[0m\u001b[0;34m)\u001b[0m \u001b[0;32mfor\u001b[0m \u001b[0me\u001b[0m \u001b[0;32min\u001b[0m \u001b[0mv\u001b[0m\u001b[0;34m]\u001b[0m\u001b[0;34m\u001b[0m\u001b[0m\n\u001b[1;32m      4\u001b[0m \u001b[0mprint\u001b[0m\u001b[0;34m(\u001b[0m\u001b[0mpretty\u001b[0m\u001b[0;34m)\u001b[0m\u001b[0;34m\u001b[0m\u001b[0m\n",
      "\u001b[0;31mNameError\u001b[0m: name 'realSorted' is not defined"
     ]
    }
   ],
   "source": [
    "pretty = {}\n",
    "for k, v in realSorted.items():\n",
    "    pretty[k] = [(evs[e[0]], e[1]) for e in v]\n",
    "print(pretty)"
   ]
  },
  {
   "cell_type": "code",
   "execution_count": null,
   "metadata": {
    "collapsed": true
   },
   "outputs": [],
   "source": []
  }
 ],
 "metadata": {
  "kernelspec": {
   "display_name": "Python 3",
   "language": "python",
   "name": "python3"
  },
  "language_info": {
   "codemirror_mode": {
    "name": "ipython",
    "version": 3
   },
   "file_extension": ".py",
   "mimetype": "text/x-python",
   "name": "python",
   "nbconvert_exporter": "python",
   "pygments_lexer": "ipython3",
   "version": "3.6.1"
  }
 },
 "nbformat": 4,
 "nbformat_minor": 2
}
