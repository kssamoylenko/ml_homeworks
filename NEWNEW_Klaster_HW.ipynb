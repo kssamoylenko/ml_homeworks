{
 "cells": [
  {
   "cell_type": "markdown",
   "metadata": {},
   "source": [
    "# Машинное обучение. Домашняя работа №1.\n",
    "### Выполнили: Ксения Самойленко и Ирина Соколова\n",
    "\n",
    "#### Постановка задачи\n",
    "В этом задании мы попытались кластеризовать новостные статьи в соответствии с определенными событиями: нам было нужно попробовать восстановить исходную кластерную структуру и посмотреть, что произойдет в случае, если мы ограничим число кластеров. Для этого мы провели предобработку данных, а также применили три алгоритма кластеризации: разделяющий алгоритм k-средних (K-means), спектральный алгоритм и аггломеративный иерархический алгоритм. \n",
    "\n",
    "__Алгоритм K-means__ делает заданное количество документов, находящихся не слишком близко друг к другу, центроидами, группирует в кластер ближайшие к ним документы, а затем перемещает центроиды, перегруппирует вокруг них кластер, и так до тех пор, пока центроиды не перестанут значительно перемещаться.\n",
    "\n",
    "__Аггломеративный иерархический алгоритм__ (снизу вверх) сначала определяет каждый документ в свой собственный кластер, а затем объединяет похожие кластеры. \n",
    "\n",
    "__Спектральный алгоритм__ предполагает, что термины, которые часто встречаются вместе, описывают близкие понятия. То есть кластеризуются и термины, и документы: их матрица преобразуется в двудольный граф, для разбиения которого используется несколько функций.\n",
    "\n",
    "Мы попробовали применить разные параметры (минимальную и максимальную документную частоту, tf-idf преобразование, сингулярное разложение), чтобы посмотреть, как изменится качество кластеризации. Качество измеряли несколькими способами: вычисляли однородность, полноту, V-меру и Rand Index. Однородность будет максимальна, если все документы в кластере относятся к одному классу. Полнота будет максимальна, если все документы одного класса вошли в один кластер. V-мера — это гармоническое среднее однородности и полноты, а Rand Index показывает долю документов, которые отнесены к правильному кластеру, то есть отношение \"правильных ответов” ко всем ответам. \n",
    "Для всего этого мы использовали набор инструментов scikit learn. Кроме того, для предобработки и анализа документов нам потребовались пакеты pandas, re и pymorphy2. Также мы использовали библиотеку matplotlib для визуализации имеющихся данных."
   ]
  },
  {
   "cell_type": "code",
   "execution_count": 1,
   "metadata": {
    "collapsed": true
   },
   "outputs": [],
   "source": [
    "import pandas as pd\n",
    "import re\n",
    "import pymorphy2 as pm"
   ]
  },
  {
   "cell_type": "markdown",
   "metadata": {},
   "source": [
    "### Посмотрим, сколько статей есть о каждом событии"
   ]
  },
  {
   "cell_type": "code",
   "execution_count": 2,
   "metadata": {},
   "outputs": [
    {
     "data": {
      "text/plain": [
       "<matplotlib.axes._subplots.AxesSubplot at 0x1bc6597fb38>"
      ]
     },
     "execution_count": 2,
     "metadata": {},
     "output_type": "execute_result"
    },
    {
     "data": {
      "image/png": "[encoded data removed]",
      "text/plain": [
       "<matplotlib.figure.Figure at 0x1bc6597f0f0>"
      ]
     },
     "metadata": {},
     "output_type": "display_data"
    }
   ],
   "source": [
    "%matplotlib inline \n",
    "news = pd.read_csv('raw_news.csv', index_col=0)\n",
    "number_of_articles = news.groupby('event_id').size()\n",
    "number_of_articles.plot.bar()"
   ]
  },
  {
   "cell_type": "code",
   "execution_count": 3,
   "metadata": {},
   "outputs": [
    {
     "data": {
      "text/html": [
       "<div>\n",
       "<style>\n",
       "    .dataframe thead tr:only-child th {\n",
       "        text-align: right;\n",
       "    }\n",
       "\n",
       "    .dataframe thead th {\n",
       "        text-align: left;\n",
       "    }\n",
       "\n",
       "    .dataframe tbody tr th {\n",
       "        vertical-align: top;\n",
       "    }\n",
       "</style>\n",
       "<table border=\"1\" class=\"dataframe\">\n",
       "  <thead>\n",
       "    <tr style=\"text-align: right;\">\n",
       "      <th></th>\n",
       "      <th>event_id</th>\n",
       "      <th>text</th>\n",
       "    </tr>\n",
       "  </thead>\n",
       "  <tbody>\n",
       "    <tr>\n",
       "      <th>0</th>\n",
       "      <td>1</td>\n",
       "      <td>В ПЕТЕРБУРГЕ ПРОШЕЛ МИТИНГ ПРОТИВ ПЕРЕДАЧИ ИС...</td>\n",
       "    </tr>\n",
       "    <tr>\n",
       "      <th>1</th>\n",
       "      <td>1</td>\n",
       "      <td>Lenta.co, Москва, 14 января 2017 СИТУАЦИЯ С П...</td>\n",
       "    </tr>\n",
       "    <tr>\n",
       "      <th>2</th>\n",
       "      <td>1</td>\n",
       "      <td>Аргументы и Факты (aif.ru), Москва, 14 января...</td>\n",
       "    </tr>\n",
       "    <tr>\n",
       "      <th>3</th>\n",
       "      <td>1</td>\n",
       "      <td>Google Новости ТОП, Москва, 14 января 2017 АК...</td>\n",
       "    </tr>\n",
       "    <tr>\n",
       "      <th>4</th>\n",
       "      <td>1</td>\n",
       "      <td>Газета.Ru, Москва, 13 января 2017 В МОСКОВСКО...</td>\n",
       "    </tr>\n",
       "    <tr>\n",
       "      <th>5</th>\n",
       "      <td>1</td>\n",
       "      <td>Top Real Estate (topre.ru), Москва, 13 января...</td>\n",
       "    </tr>\n",
       "    <tr>\n",
       "      <th>6</th>\n",
       "      <td>1</td>\n",
       "      <td>Findnews.ru, Москва, 13 января 2017 ПОЛИЦИЯ Н...</td>\n",
       "    </tr>\n",
       "    <tr>\n",
       "      <th>7</th>\n",
       "      <td>1</td>\n",
       "      <td>ПРАВДА.info (pravda.info), Москва, 13 января ...</td>\n",
       "    </tr>\n",
       "    <tr>\n",
       "      <th>8</th>\n",
       "      <td>1</td>\n",
       "      <td>Голос Америки (golos-ameriki.ru), Москва, 13 ...</td>\n",
       "    </tr>\n",
       "    <tr>\n",
       "      <th>9</th>\n",
       "      <td>1</td>\n",
       "      <td>Выбор Народа (vybor-naroda.org), Москва, 13 я...</td>\n",
       "    </tr>\n",
       "    <tr>\n",
       "      <th>10</th>\n",
       "      <td>1</td>\n",
       "      <td>Flynews24.ru, Москва, 13 января 2017 @INTERFA...</td>\n",
       "    </tr>\n",
       "    <tr>\n",
       "      <th>11</th>\n",
       "      <td>1</td>\n",
       "      <td>Коммерсантъ. Новости Online, Москва, 13 январ...</td>\n",
       "    </tr>\n",
       "    <tr>\n",
       "      <th>12</th>\n",
       "      <td>1</td>\n",
       "      <td>Вести.ru, Москва, 13 января 2017 ПЕТЕРБУРЖЦЫ ...</td>\n",
       "    </tr>\n",
       "    <tr>\n",
       "      <th>13</th>\n",
       "      <td>1</td>\n",
       "      <td>Findnews.ru, Москва, 13 января 2017 ПЕРЕД ИСА...</td>\n",
       "    </tr>\n",
       "    <tr>\n",
       "      <th>14</th>\n",
       "      <td>1</td>\n",
       "      <td>Радио Свобода (svoboda.org), Москва, 13 январ...</td>\n",
       "    </tr>\n",
       "    <tr>\n",
       "      <th>15</th>\n",
       "      <td>1</td>\n",
       "      <td>ИА Regnum, Москва, 13 января 2017 ПЕРЕД ИСААК...</td>\n",
       "    </tr>\n",
       "    <tr>\n",
       "      <th>16</th>\n",
       "      <td>1</td>\n",
       "      <td>Google Новости ТОП, Москва, 13 января 2017 ОП...</td>\n",
       "    </tr>\n",
       "    <tr>\n",
       "      <th>17</th>\n",
       "      <td>1</td>\n",
       "      <td>Преступная Россия (crimerussia.com), Москва, ...</td>\n",
       "    </tr>\n",
       "    <tr>\n",
       "      <th>18</th>\n",
       "      <td>1</td>\n",
       "      <td>Суть событий (argumentiru.com), Москва, 13 ян...</td>\n",
       "    </tr>\n",
       "    <tr>\n",
       "      <th>19</th>\n",
       "      <td>1</td>\n",
       "      <td>Business FM (bfm.ru), Москва, 13 января 2017 ...</td>\n",
       "    </tr>\n",
       "    <tr>\n",
       "      <th>20</th>\n",
       "      <td>1</td>\n",
       "      <td>Аргументы неделi (argumenti.ru), Москва, 13 я...</td>\n",
       "    </tr>\n",
       "    <tr>\n",
       "      <th>21</th>\n",
       "      <td>1</td>\n",
       "      <td>Google Новости ТОП, Москва, 13 января 2017 TR...</td>\n",
       "    </tr>\n",
       "    <tr>\n",
       "      <th>22</th>\n",
       "      <td>1</td>\n",
       "      <td>The New Times (newtimes.ru), Москва, 13 январ...</td>\n",
       "    </tr>\n",
       "    <tr>\n",
       "      <th>23</th>\n",
       "      <td>1</td>\n",
       "      <td>Profi-news.ru, Москва, 13 января 2017 ПРОТИВН...</td>\n",
       "    </tr>\n",
       "    <tr>\n",
       "      <th>24</th>\n",
       "      <td>1</td>\n",
       "      <td>Открытая Россия (openrussia.org), Москва, 13 ...</td>\n",
       "    </tr>\n",
       "    <tr>\n",
       "      <th>25</th>\n",
       "      <td>1</td>\n",
       "      <td>РИА Новости, Москва, 13 января 2017 ПРОТИВНИК...</td>\n",
       "    </tr>\n",
       "    <tr>\n",
       "      <th>26</th>\n",
       "      <td>1</td>\n",
       "      <td>Газета.Ru, Москва, 13 января 2017 АКЦИЯ ПРОТЕ...</td>\n",
       "    </tr>\n",
       "    <tr>\n",
       "      <th>27</th>\n",
       "      <td>1</td>\n",
       "      <td>Vistanews.ru, Москва, 13 января 2017 В ПЕТЕРБ...</td>\n",
       "    </tr>\n",
       "    <tr>\n",
       "      <th>28</th>\n",
       "      <td>1</td>\n",
       "      <td>Национальная Служба Новостей (nsn.fm), Москва...</td>\n",
       "    </tr>\n",
       "    <tr>\n",
       "      <th>29</th>\n",
       "      <td>1</td>\n",
       "      <td>Ислам News (islamnews.ru), Москва, 13 января ...</td>\n",
       "    </tr>\n",
       "    <tr>\n",
       "      <th>...</th>\n",
       "      <td>...</td>\n",
       "      <td>...</td>\n",
       "    </tr>\n",
       "    <tr>\n",
       "      <th>1900</th>\n",
       "      <td>28</td>\n",
       "      <td>ТАСС, Москва, 10 сентября 2017 ВСЕ КАНДИДАТЫ ...</td>\n",
       "    </tr>\n",
       "    <tr>\n",
       "      <th>1901</th>\n",
       "      <td>28</td>\n",
       "      <td>ТАСС, Москва, 10 сентября 2017 ВЫБОРЫ ГУБЕРНА...</td>\n",
       "    </tr>\n",
       "    <tr>\n",
       "      <th>1902</th>\n",
       "      <td>28</td>\n",
       "      <td>ТАСС, Москва, 10 сентября 2017 НА ВЫБОРАХ В С...</td>\n",
       "    </tr>\n",
       "    <tr>\n",
       "      <th>1903</th>\n",
       "      <td>28</td>\n",
       "      <td>ТАСС, Москва, 10 сентября 2017 МЕЖДУНАРОДНЫЕ ...</td>\n",
       "    </tr>\n",
       "    <tr>\n",
       "      <th>1904</th>\n",
       "      <td>28</td>\n",
       "      <td>ТАСС, Москва, 10 сентября 2017 ЭКСПЕРТЫ ОТМЕЧ...</td>\n",
       "    </tr>\n",
       "    <tr>\n",
       "      <th>1905</th>\n",
       "      <td>28</td>\n",
       "      <td>ТАСС, Москва, 10 сентября 2017 МИНОБОРОНЫ: БО...</td>\n",
       "    </tr>\n",
       "    <tr>\n",
       "      <th>1906</th>\n",
       "      <td>28</td>\n",
       "      <td>Российская газета, Москва, 11 сентября 2017 П...</td>\n",
       "    </tr>\n",
       "    <tr>\n",
       "      <th>1907</th>\n",
       "      <td>28</td>\n",
       "      <td>Коммерсантъ (kommersant.ru), Москва, 10 сентя...</td>\n",
       "    </tr>\n",
       "    <tr>\n",
       "      <th>1908</th>\n",
       "      <td>28</td>\n",
       "      <td>Kp.ru, Москва, 10 сентября 2017 ВЫБОРЫ В МОСК...</td>\n",
       "    </tr>\n",
       "    <tr>\n",
       "      <th>1909</th>\n",
       "      <td>28</td>\n",
       "      <td>Kp.ru, Москва, 10 сентября 2017 ЖИТЕЛИ РАЙОНО...</td>\n",
       "    </tr>\n",
       "    <tr>\n",
       "      <th>1910</th>\n",
       "      <td>28</td>\n",
       "      <td>Московский Комсомолец, Москва, 11 сентября 20...</td>\n",
       "    </tr>\n",
       "    <tr>\n",
       "      <th>1911</th>\n",
       "      <td>28</td>\n",
       "      <td>РБК (rbc.ru), Москва, 10 сентября 2017 МОСГОР...</td>\n",
       "    </tr>\n",
       "    <tr>\n",
       "      <th>1912</th>\n",
       "      <td>28</td>\n",
       "      <td>РБК (rbc.ru), Москва, 10 сентября 2017 ПУТИН ...</td>\n",
       "    </tr>\n",
       "    <tr>\n",
       "      <th>1913</th>\n",
       "      <td>28</td>\n",
       "      <td>РБК (rbc.ru), Москва, 10 сентября 2017 В РЕГИ...</td>\n",
       "    </tr>\n",
       "    <tr>\n",
       "      <th>1914</th>\n",
       "      <td>28</td>\n",
       "      <td>РБК (rbc.ru), Москва, 10 сентября 2017 ГОЛОСО...</td>\n",
       "    </tr>\n",
       "    <tr>\n",
       "      <th>1915</th>\n",
       "      <td>28</td>\n",
       "      <td>Lenta.Ru, Москва, 10 сентября 2017 ПОЛИТОЛОГ ...</td>\n",
       "    </tr>\n",
       "    <tr>\n",
       "      <th>1916</th>\n",
       "      <td>28</td>\n",
       "      <td>Lenta.Ru, Москва, 10 сентября 2017 ИЗБИРАТЕЛЬ...</td>\n",
       "    </tr>\n",
       "    <tr>\n",
       "      <th>1917</th>\n",
       "      <td>28</td>\n",
       "      <td>Lenta.Ru, Москва, 10 сентября 2017 НА ИЗБИРАТ...</td>\n",
       "    </tr>\n",
       "    <tr>\n",
       "      <th>1918</th>\n",
       "      <td>28</td>\n",
       "      <td>Lenta.Ru, Москва, 10 сентября 2017 ГОЛОСОВАНИ...</td>\n",
       "    </tr>\n",
       "    <tr>\n",
       "      <th>1919</th>\n",
       "      <td>28</td>\n",
       "      <td>Lenta.Ru, Москва, 10 сентября 2017 НАБЛЮДАТЕЛ...</td>\n",
       "    </tr>\n",
       "    <tr>\n",
       "      <th>1920</th>\n",
       "      <td>28</td>\n",
       "      <td>Lenta.Ru, Москва, 10 сентября 2017 В БУРЯТИИ ...</td>\n",
       "    </tr>\n",
       "    <tr>\n",
       "      <th>1921</th>\n",
       "      <td>28</td>\n",
       "      <td>Lenta.Ru, Москва, 10 сентября 2017 ПУТИН ПРОГ...</td>\n",
       "    </tr>\n",
       "    <tr>\n",
       "      <th>1922</th>\n",
       "      <td>28</td>\n",
       "      <td>Lenta.Ru, Москва, 10 сентября 2017 В МОСГОРИЗ...</td>\n",
       "    </tr>\n",
       "    <tr>\n",
       "      <th>1923</th>\n",
       "      <td>28</td>\n",
       "      <td>Lenta.Ru, Москва, 10 сентября 2017 ЖИРИНОВСКИ...</td>\n",
       "    </tr>\n",
       "    <tr>\n",
       "      <th>1924</th>\n",
       "      <td>28</td>\n",
       "      <td>Lenta.Ru, Москва, 10 сентября 2017 ЯВКА НА ВЫ...</td>\n",
       "    </tr>\n",
       "    <tr>\n",
       "      <th>1925</th>\n",
       "      <td>28</td>\n",
       "      <td>Lenta.Ru, Москва, 10 сентября 2017 КАНДИДАТ В...</td>\n",
       "    </tr>\n",
       "    <tr>\n",
       "      <th>1926</th>\n",
       "      <td>28</td>\n",
       "      <td>Lenta.Ru, Москва, 10 сентября 2017 В ИЗБИРКОМ...</td>\n",
       "    </tr>\n",
       "    <tr>\n",
       "      <th>1927</th>\n",
       "      <td>28</td>\n",
       "      <td>Lenta.Ru, Москва, 10 сентября 2017 КАНДИДАТ В...</td>\n",
       "    </tr>\n",
       "    <tr>\n",
       "      <th>1928</th>\n",
       "      <td>28</td>\n",
       "      <td>Lenta.Ru, Москва, 10 сентября 2017 МЕДВЕДЕВ П...</td>\n",
       "    </tr>\n",
       "    <tr>\n",
       "      <th>1929</th>\n",
       "      <td>28</td>\n",
       "      <td>Lenta.Ru, Москва, 10 сентября 2017 ЖИРИНОВСКИ...</td>\n",
       "    </tr>\n",
       "  </tbody>\n",
       "</table>\n",
       "<p>1930 rows × 2 columns</p>\n",
       "</div>"
      ],
      "text/plain": [
       "      event_id                                               text\n",
       "0            1   В ПЕТЕРБУРГЕ ПРОШЕЛ МИТИНГ ПРОТИВ ПЕРЕДАЧИ ИС...\n",
       "1            1   Lenta.co, Москва, 14 января 2017 СИТУАЦИЯ С П...\n",
       "2            1   Аргументы и Факты (aif.ru), Москва, 14 января...\n",
       "3            1   Google Новости ТОП, Москва, 14 января 2017 АК...\n",
       "4            1   Газета.Ru, Москва, 13 января 2017 В МОСКОВСКО...\n",
       "5            1   Top Real Estate (topre.ru), Москва, 13 января...\n",
       "6            1   Findnews.ru, Москва, 13 января 2017 ПОЛИЦИЯ Н...\n",
       "7            1   ПРАВДА.info (pravda.info), Москва, 13 января ...\n",
       "8            1   Голос Америки (golos-ameriki.ru), Москва, 13 ...\n",
       "9            1   Выбор Народа (vybor-naroda.org), Москва, 13 я...\n",
       "10           1   Flynews24.ru, Москва, 13 января 2017 @INTERFA...\n",
       "11           1   Коммерсантъ. Новости Online, Москва, 13 январ...\n",
       "12           1   Вести.ru, Москва, 13 января 2017 ПЕТЕРБУРЖЦЫ ...\n",
       "13           1   Findnews.ru, Москва, 13 января 2017 ПЕРЕД ИСА...\n",
       "14           1   Радио Свобода (svoboda.org), Москва, 13 январ...\n",
       "15           1   ИА Regnum, Москва, 13 января 2017 ПЕРЕД ИСААК...\n",
       "16           1   Google Новости ТОП, Москва, 13 января 2017 ОП...\n",
       "17           1   Преступная Россия (crimerussia.com), Москва, ...\n",
       "18           1   Суть событий (argumentiru.com), Москва, 13 ян...\n",
       "19           1   Business FM (bfm.ru), Москва, 13 января 2017 ...\n",
       "20           1   Аргументы неделi (argumenti.ru), Москва, 13 я...\n",
       "21           1   Google Новости ТОП, Москва, 13 января 2017 TR...\n",
       "22           1   The New Times (newtimes.ru), Москва, 13 январ...\n",
       "23           1   Profi-news.ru, Москва, 13 января 2017 ПРОТИВН...\n",
       "24           1   Открытая Россия (openrussia.org), Москва, 13 ...\n",
       "25           1   РИА Новости, Москва, 13 января 2017 ПРОТИВНИК...\n",
       "26           1   Газета.Ru, Москва, 13 января 2017 АКЦИЯ ПРОТЕ...\n",
       "27           1   Vistanews.ru, Москва, 13 января 2017 В ПЕТЕРБ...\n",
       "28           1   Национальная Служба Новостей (nsn.fm), Москва...\n",
       "29           1   Ислам News (islamnews.ru), Москва, 13 января ...\n",
       "...        ...                                                ...\n",
       "1900        28   ТАСС, Москва, 10 сентября 2017 ВСЕ КАНДИДАТЫ ...\n",
       "1901        28   ТАСС, Москва, 10 сентября 2017 ВЫБОРЫ ГУБЕРНА...\n",
       "1902        28   ТАСС, Москва, 10 сентября 2017 НА ВЫБОРАХ В С...\n",
       "1903        28   ТАСС, Москва, 10 сентября 2017 МЕЖДУНАРОДНЫЕ ...\n",
       "1904        28   ТАСС, Москва, 10 сентября 2017 ЭКСПЕРТЫ ОТМЕЧ...\n",
       "1905        28   ТАСС, Москва, 10 сентября 2017 МИНОБОРОНЫ: БО...\n",
       "1906        28   Российская газета, Москва, 11 сентября 2017 П...\n",
       "1907        28   Коммерсантъ (kommersant.ru), Москва, 10 сентя...\n",
       "1908        28   Kp.ru, Москва, 10 сентября 2017 ВЫБОРЫ В МОСК...\n",
       "1909        28   Kp.ru, Москва, 10 сентября 2017 ЖИТЕЛИ РАЙОНО...\n",
       "1910        28   Московский Комсомолец, Москва, 11 сентября 20...\n",
       "1911        28   РБК (rbc.ru), Москва, 10 сентября 2017 МОСГОР...\n",
       "1912        28   РБК (rbc.ru), Москва, 10 сентября 2017 ПУТИН ...\n",
       "1913        28   РБК (rbc.ru), Москва, 10 сентября 2017 В РЕГИ...\n",
       "1914        28   РБК (rbc.ru), Москва, 10 сентября 2017 ГОЛОСО...\n",
       "1915        28   Lenta.Ru, Москва, 10 сентября 2017 ПОЛИТОЛОГ ...\n",
       "1916        28   Lenta.Ru, Москва, 10 сентября 2017 ИЗБИРАТЕЛЬ...\n",
       "1917        28   Lenta.Ru, Москва, 10 сентября 2017 НА ИЗБИРАТ...\n",
       "1918        28   Lenta.Ru, Москва, 10 сентября 2017 ГОЛОСОВАНИ...\n",
       "1919        28   Lenta.Ru, Москва, 10 сентября 2017 НАБЛЮДАТЕЛ...\n",
       "1920        28   Lenta.Ru, Москва, 10 сентября 2017 В БУРЯТИИ ...\n",
       "1921        28   Lenta.Ru, Москва, 10 сентября 2017 ПУТИН ПРОГ...\n",
       "1922        28   Lenta.Ru, Москва, 10 сентября 2017 В МОСГОРИЗ...\n",
       "1923        28   Lenta.Ru, Москва, 10 сентября 2017 ЖИРИНОВСКИ...\n",
       "1924        28   Lenta.Ru, Москва, 10 сентября 2017 ЯВКА НА ВЫ...\n",
       "1925        28   Lenta.Ru, Москва, 10 сентября 2017 КАНДИДАТ В...\n",
       "1926        28   Lenta.Ru, Москва, 10 сентября 2017 В ИЗБИРКОМ...\n",
       "1927        28   Lenta.Ru, Москва, 10 сентября 2017 КАНДИДАТ В...\n",
       "1928        28   Lenta.Ru, Москва, 10 сентября 2017 МЕДВЕДЕВ П...\n",
       "1929        28   Lenta.Ru, Москва, 10 сентября 2017 ЖИРИНОВСКИ...\n",
       "\n",
       "[1930 rows x 2 columns]"
      ]
     },
     "execution_count": 3,
     "metadata": {},
     "output_type": "execute_result"
    }
   ],
   "source": [
    "news"
   ]
  },
  {
   "cell_type": "markdown",
   "metadata": {},
   "source": [
    "## Часть 1. Предобработка"
   ]
  },
  {
   "cell_type": "markdown",
   "metadata": {},
   "source": [
    "На этом этапе мы разбили слова на отдельные токены, приведя их к нижнему регистру, убрали лишние элементы (коими оказались ссылки) при помощи pymorphy мы лемматизировали имеющиеся слова, проверили наличие дубликатов в коллекции, после чего \"слепили\" их обратно в документы. "
   ]
  },
  {
   "cell_type": "code",
   "execution_count": 1,
   "metadata": {},
   "outputs": [
    {
     "ename": "NameError",
     "evalue": "name 'pm' is not defined",
     "output_type": "error",
     "traceback": [
      "\u001b[1;31m---------------------------------------------------------------------------\u001b[0m",
      "\u001b[1;31mNameError\u001b[0m                                 Traceback (most recent call last)",
      "\u001b[1;32m<ipython-input-1-9fc8b6adfcaa>\u001b[0m in \u001b[0;36m<module>\u001b[1;34m()\u001b[0m\n\u001b[1;32m----> 1\u001b[1;33m \u001b[0mmorph\u001b[0m \u001b[1;33m=\u001b[0m \u001b[0mpm\u001b[0m\u001b[1;33m.\u001b[0m\u001b[0mMorphAnalyzer\u001b[0m\u001b[1;33m(\u001b[0m\u001b[1;33m)\u001b[0m\u001b[1;33m\u001b[0m\u001b[0m\n\u001b[0m\u001b[0;32m      2\u001b[0m \u001b[1;32mdef\u001b[0m \u001b[0mwords\u001b[0m\u001b[1;33m(\u001b[0m\u001b[0mstr\u001b[0m\u001b[1;33m)\u001b[0m\u001b[1;33m:\u001b[0m\u001b[1;33m\u001b[0m\u001b[0m\n\u001b[0;32m      3\u001b[0m     \u001b[0mnolinks\u001b[0m \u001b[1;33m=\u001b[0m \u001b[1;34m' '\u001b[0m\u001b[1;33m.\u001b[0m\u001b[0mjoin\u001b[0m\u001b[1;33m(\u001b[0m\u001b[1;33m[\u001b[0m\u001b[0mword\u001b[0m \u001b[1;32mfor\u001b[0m \u001b[0mword\u001b[0m \u001b[1;32min\u001b[0m \u001b[0mstr\u001b[0m\u001b[1;33m.\u001b[0m\u001b[0msplit\u001b[0m\u001b[1;33m(\u001b[0m\u001b[1;33m)\u001b[0m \u001b[1;32mif\u001b[0m \u001b[1;33m(\u001b[0m\u001b[1;32mnot\u001b[0m \u001b[0mre\u001b[0m\u001b[1;33m.\u001b[0m\u001b[0mfindall\u001b[0m\u001b[1;33m(\u001b[0m\u001b[1;34m'https?://\\w.*|\\w+\\.\\w+'\u001b[0m\u001b[1;33m,\u001b[0m \u001b[0mword\u001b[0m\u001b[1;33m)\u001b[0m\u001b[1;33m)\u001b[0m\u001b[1;33m]\u001b[0m\u001b[1;33m)\u001b[0m\u001b[1;33m\u001b[0m\u001b[0m\n\u001b[0;32m      4\u001b[0m     \u001b[0mclean_line\u001b[0m \u001b[1;33m=\u001b[0m \u001b[0mre\u001b[0m\u001b[1;33m.\u001b[0m\u001b[0msub\u001b[0m\u001b[1;33m(\u001b[0m\u001b[1;34m'[\\W\\d_-]+'\u001b[0m\u001b[1;33m,\u001b[0m \u001b[1;34m' '\u001b[0m\u001b[1;33m,\u001b[0m \u001b[0mnolinks\u001b[0m\u001b[1;33m.\u001b[0m\u001b[0mlower\u001b[0m\u001b[1;33m(\u001b[0m\u001b[1;33m)\u001b[0m\u001b[1;33m.\u001b[0m\u001b[0mstrip\u001b[0m\u001b[1;33m(\u001b[0m\u001b[1;33m)\u001b[0m\u001b[1;33m)\u001b[0m\u001b[1;33m\u001b[0m\u001b[0m\n\u001b[0;32m      5\u001b[0m     \u001b[0mws\u001b[0m \u001b[1;33m=\u001b[0m \u001b[0mre\u001b[0m\u001b[1;33m.\u001b[0m\u001b[0msplit\u001b[0m\u001b[1;33m(\u001b[0m\u001b[1;34m' +'\u001b[0m\u001b[1;33m,\u001b[0m \u001b[0mclean_line\u001b[0m\u001b[1;33m)\u001b[0m\u001b[1;33m\u001b[0m\u001b[0m\n",
      "\u001b[1;31mNameError\u001b[0m: name 'pm' is not defined"
     ]
    }
   ],
   "source": [
    "morph = pm.MorphAnalyzer()\n",
    "def words(str):\n",
    "    nolinks = ' '.join([word for word in str.split() if (not re.findall('https?://\\w.*|\\w+\\.\\w+', word))])\n",
    "    clean_line = re.sub('[\\W\\d_-]+', ' ', nolinks.lower().strip())\n",
    "    ws = re.split(' +', clean_line)\n",
    "df = pd.read_csv('raw_news.csv', index_col=0)\n",
    "no_dup_df = df.drop_duplicates(keep='first')\n",
    "texts = no_dup_df['text'] \n",
    "text_list = [' '.join(words(text)) for text in texts]  \n"
   ]
  },
  {
   "cell_type": "code",
   "execution_count": 7,
   "metadata": {},
   "outputs": [
    {
     "name": "stdout",
     "output_type": "stream",
     "text": [
      "москва февраль смерть виталий чуркин стать известный причина цвета и свеча нести к здание мид россия ряд с гвоздик и роза белый лист бумага с чёрный буква умереть виталий чуркин он стать плохо прямо на рабочий место в офис оон в нью йорк он умереть в больница от сердечный приступ заседание рабочий группа оон начаться с минута молчание а в генеральный ассамблея обещать провести в память о чуркин отдельный заседание \n"
     ]
    }
   ],
   "source": [
    "print(text_list[190])"
   ]
  },
  {
   "cell_type": "markdown",
   "metadata": {},
   "source": [
    "## Часть 2.  Кластеризация (28 кластеров)"
   ]
  },
  {
   "cell_type": "markdown",
   "metadata": {},
   "source": [
    "На этом этапе при помощи инстурментов scikit learn мы попытались кластеризовать наши документы и оценить успешность этой кластеризации. Мы применяли tf-idf меру (соотноешние встречаемости слова в документе и его встречаемость в коллекции вообще), ограничивали частоту встречаемости слова и \"радиус\" N-грамм. На чистоту кластеризации больше всего влияют пороги встречаемости слов. Чтобы не дублировать код по многу раз для разных параметров, мы обернули его в функцию. "
   ]
  },
  {
   "cell_type": "code",
   "execution_count": 8,
   "metadata": {},
   "outputs": [
    {
     "name": "stdout",
     "output_type": "stream",
     "text": [
      "Explained variance of the SVD step: 99%\n",
      "28\n",
      "Homogeneity: 0.660355905708\n",
      "Completeness: 0.641488968405\n",
      "V-measure 0.650785722871\n",
      "Adjusted Rand-Index: 0.422003710047\n"
     ]
    }
   ],
   "source": [
    "from __future__ import print_function\n",
    "from sklearn.decomposition import TruncatedSVD\n",
    "from sklearn.feature_extraction.text import *\n",
    "from sklearn.pipeline import *\n",
    "from sklearn.preprocessing import Normalizer\n",
    "from sklearn.metrics import *\n",
    "from sklearn.cluster import *\n",
    "import numpy as np\n",
    "from sklearn.pipeline import Pipeline\n",
    "from sklearn.feature_extraction.text import *\n",
    "\n",
    "def cluster_measure(max_df, min_df, ngram_range, n_components, n_clusters):\n",
    "    pipeline = Pipeline([\n",
    "      ('vect', CountVectorizer(max_df=max_df, min_df=min_df, ngram_range=ngram_range, analyzer='word', stop_words ='english')),\n",
    "      ('tfidf', TfidfTransformer()),\n",
    "      ('svd', TruncatedSVD(n_components=n_components)),\n",
    "      ('norm', Normalizer() ),\n",
    "      ('clust', KMeans(n_clusters=n_clusters))\n",
    "    ])\n",
    "    pipeline.fit(text_list)\n",
    "    explained_variance = pipeline.named_steps['svd'].explained_variance_ratio_.sum()\n",
    "    print(\"Explained variance of the SVD step: {}%\".format(int(explained_variance * 100)))\n",
    "    clust_labels = pipeline.named_steps['clust'].labels_\n",
    "    labels = no_dup_df['event_id']\n",
    "    print(len(set(clust_labels)))\n",
    "    print(\"Homogeneity:\", homogeneity_score(labels, clust_labels))\n",
    "    print(\"Completeness:\", completeness_score(labels, clust_labels))\n",
    "    print(\"V-measure\",  v_measure_score(labels, clust_labels))\n",
    "    print(\"Adjusted Rand-Index:\",  adjusted_rand_score(labels, clust_labels))\n",
    "    \n",
    "cluster_measure(0.9, 0.20, (1,3), 133, 28)"
   ]
  },
  {
   "cell_type": "markdown",
   "metadata": {},
   "source": [
    "Сравним результаты для разных параметров:"
   ]
  },
  {
   "cell_type": "code",
   "execution_count": 9,
   "metadata": {},
   "outputs": [
    {
     "name": "stdout",
     "output_type": "stream",
     "text": [
      "Explained variance of the SVD step: 81%\n",
      "28\n",
      "Homogeneity: 0.673017325884\n",
      "Completeness: 0.651842869927\n",
      "V-measure 0.66226088851\n",
      "Adjusted Rand-Index: 0.446721121571\n",
      "Explained variance of the SVD step: 65%\n",
      "28\n",
      "Homogeneity: 0.865320126386\n",
      "Completeness: 0.836784168475\n",
      "V-measure 0.85081294326\n",
      "Adjusted Rand-Index: 0.727723306481\n",
      "Explained variance of the SVD step: 65%\n",
      "28\n",
      "Homogeneity: 0.856654309222\n",
      "Completeness: 0.821037662234\n",
      "V-measure 0.838467923019\n",
      "Adjusted Rand-Index: 0.69740217849\n"
     ]
    }
   ],
   "source": [
    "cluster_measure(0.9, 0.20, (1,3), 65, 28)\n",
    "cluster_measure(0.7, 0.10, (1,3), 65, 28)\n",
    "cluster_measure(0.7, 0.10, (1,7), 65, 28)\n"
   ]
  },
  {
   "cell_type": "markdown",
   "metadata": {},
   "source": [
    "Как видно из результатов, изменение параметров для сингулярного разложения слабо влияет на остальные меры. Более высоких результатов помогает добиться изменение максимальной и минимальной встречаемости слов и радиуса n-грамм. "
   ]
  },
  {
   "cell_type": "markdown",
   "metadata": {},
   "source": [
    "Мы также попробовали разбить документы на кластеры без применения tf-idf."
   ]
  },
  {
   "cell_type": "code",
   "execution_count": 10,
   "metadata": {},
   "outputs": [
    {
     "name": "stdout",
     "output_type": "stream",
     "text": [
      "Explained variance of the SVD step: 95%\n",
      "28\n",
      "Homogeneity: 0.834023288761\n",
      "Completeness: 0.806103187549\n",
      "V-measure 0.819825594271\n",
      "Adjusted Rand-Index: 0.677393625498\n"
     ]
    }
   ],
   "source": [
    "def no_tfidf(max_df, min_df, ngram_range, n_components, n_clusters): \n",
    "    pipeline = Pipeline([\n",
    "        ('vect', CountVectorizer(max_df=max_df, min_df=min_df, ngram_range=ngram_range, analyzer='word', stop_words ='english')),\n",
    "        ('svd', TruncatedSVD(n_components=n_components)),\n",
    "        ('norm', Normalizer() ),\n",
    "        ('clust', KMeans(n_clusters=n_clusters))\n",
    "    ])\n",
    "\n",
    "    pipeline.fit(text_list)\n",
    "    explained_variance = pipeline.named_steps['svd'].explained_variance_ratio_.sum()\n",
    "    print(\"Explained variance of the SVD step: {}%\".format(int(explained_variance * 100)))\n",
    "    clust_labels = pipeline.named_steps['clust'].labels_\n",
    "    labels = no_dup_df['event_id']\n",
    "    print(len(set(clust_labels)))\n",
    "    print(\"Homogeneity:\", homogeneity_score(labels, clust_labels))\n",
    "    print(\"Completeness:\", completeness_score(labels, clust_labels))\n",
    "    print(\"V-measure\",  v_measure_score(labels, clust_labels))\n",
    "    print(\"Adjusted Rand-Index:\",  adjusted_rand_score(labels, clust_labels))\n",
    "no_tfidf(0.7, 0.10, (1,3), 65, 28)"
   ]
  },
  {
   "cell_type": "markdown",
   "metadata": {},
   "source": [
    "Как видно, результаты немного отличаются от того, что было с tfidf. Резко выросло SVD. "
   ]
  },
  {
   "cell_type": "markdown",
   "metadata": {},
   "source": [
    "### Спектральная кластеризация"
   ]
  },
  {
   "cell_type": "code",
   "execution_count": 11,
   "metadata": {},
   "outputs": [
    {
     "name": "stdout",
     "output_type": "stream",
     "text": [
      "Explained variance of the SVD step: 65%\n",
      "28\n",
      "Homogeneity: 0.851059216806\n",
      "Completeness: 0.81660668235\n",
      "V-measure 0.833477069803\n",
      "Adjusted Rand-Index: 0.701837187246\n"
     ]
    }
   ],
   "source": [
    "def spectr_clust(max_df, min_df, ngram_range, n_components, n_clusters): \n",
    "    pipeline = Pipeline([\n",
    "      ('vect', CountVectorizer(max_df=max_df, min_df=min_df, ngram_range=ngram_range, analyzer='word', stop_words ='english')),\n",
    "      ('tfidf', TfidfTransformer()),\n",
    "      ('svd', TruncatedSVD(n_components=n_components)),\n",
    "      ('norm', Normalizer() ),\n",
    "      ('clust', SpectralClustering(n_clusters=28))\n",
    "    ])\n",
    "\n",
    "    pipeline.fit(text_list)\n",
    "    explained_variance = pipeline.named_steps['svd'].explained_variance_ratio_.sum()\n",
    "    print(\"Explained variance of the SVD step: {}%\".format(int(explained_variance * 100)))\n",
    "    clust_labels = pipeline.named_steps['clust'].labels_\n",
    "    labels = no_dup_df['event_id']\n",
    "    print(len(set(clust_labels)))\n",
    "    print(\"Homogeneity:\", homogeneity_score(labels, clust_labels))\n",
    "    print(\"Completeness:\", completeness_score(labels, clust_labels))\n",
    "    print(\"V-measure\",  v_measure_score(labels, clust_labels))\n",
    "    print(\"Adjusted Rand-Index:\",  adjusted_rand_score(labels, clust_labels))\n",
    "spectr_clust(0.7, 0.10, (1,3), 65, 28) "
   ]
  },
  {
   "cell_type": "markdown",
   "metadata": {},
   "source": [
    "Спектральная кластеризация дает результат, не сильно отличающийся от метода K-средних, хотя число документов, отнесенных к правильном кластеру (Rand-Index) немного снижается."
   ]
  },
  {
   "cell_type": "markdown",
   "metadata": {},
   "source": [
    "### Аггломеративная кластеризация"
   ]
  },
  {
   "cell_type": "code",
   "execution_count": 12,
   "metadata": {},
   "outputs": [
    {
     "name": "stdout",
     "output_type": "stream",
     "text": [
      "Explained variance of the SVD step: 65%\n",
      "28\n",
      "Homogeneity: 0.87181420404\n",
      "Completeness: 0.842062944467\n",
      "V-measure 0.856680347622\n",
      "Adjusted Rand-Index: 0.711196492908\n"
     ]
    }
   ],
   "source": [
    "def aggl_clust(max_df, min_df, ngram_range, n_components, n_clusters): \n",
    "    pipeline = Pipeline([\n",
    "    ('vect', CountVectorizer(max_df=max_df, min_df=min_df, ngram_range=ngram_range, analyzer='word', stop_words ='english')),\n",
    "    ('tfidf', TfidfTransformer()),\n",
    "    ('svd', TruncatedSVD(n_components=n_components)),\n",
    "    ('norm', Normalizer() ),\n",
    "    ('clust', AgglomerativeClustering(n_clusters=28))\n",
    "    ])\n",
    "        \n",
    "    pipeline.fit(text_list)\n",
    "    explained_variance = pipeline.named_steps['svd'].explained_variance_ratio_.sum()\n",
    "    print(\"Explained variance of the SVD step: {}%\".format(int(explained_variance * 100)))\n",
    "    clust_labels = pipeline.named_steps['clust'].labels_\n",
    "    labels = no_dup_df['event_id']\n",
    "    print(len(set(clust_labels)))\n",
    "    print(\"Homogeneity:\", homogeneity_score(labels, clust_labels))\n",
    "    print(\"Completeness:\", completeness_score(labels, clust_labels))\n",
    "    print(\"V-measure\",  v_measure_score(labels, clust_labels))\n",
    "    print(\"Adjusted Rand-Index:\",  adjusted_rand_score(labels, clust_labels))\n",
    "    \n",
    "aggl_clust(0.7, 0.10, (1,3), 65, 28) "
   ]
  },
  {
   "cell_type": "markdown",
   "metadata": {},
   "source": [
    "Также довольно высокие показатели. Спектральная и аггломеративная кластеризация могут быть неплохой альтернативой методу k-средних. "
   ]
  },
  {
   "cell_type": "markdown",
   "metadata": {
    "collapsed": true
   },
   "source": [
    "## Часть 3. Кластеризация с меньшим числом кластеров."
   ]
  },
  {
   "cell_type": "markdown",
   "metadata": {},
   "source": [
    "Попробуем разбить документы на 6 кластеров при помощи имеющейся у нас функцй для разных методов."
   ]
  },
  {
   "cell_type": "code",
   "execution_count": 13,
   "metadata": {},
   "outputs": [
    {
     "name": "stdout",
     "output_type": "stream",
     "text": [
      "Explained variance of the SVD step: 81%\n",
      "6\n",
      "Homogeneity: 0.336612223129\n",
      "Completeness: 0.608990046904\n",
      "V-measure 0.433572338071\n",
      "Adjusted Rand-Index: 0.179421130744\n"
     ]
    }
   ],
   "source": [
    "cluster_measure(0.9, 0.20, (1,3), 65, 6)"
   ]
  },
  {
   "cell_type": "code",
   "execution_count": 14,
   "metadata": {},
   "outputs": [
    {
     "name": "stdout",
     "output_type": "stream",
     "text": [
      "Explained variance of the SVD step: 81%\n",
      "28\n",
      "Homogeneity: 0.675869797999\n",
      "Completeness: 0.65186000581\n",
      "V-measure 0.663647813262\n",
      "Adjusted Rand-Index: 0.442636186841\n"
     ]
    }
   ],
   "source": [
    "spectr_clust(0.9, 0.20, (1,3), 65, 6)"
   ]
  },
  {
   "cell_type": "code",
   "execution_count": 15,
   "metadata": {},
   "outputs": [
    {
     "name": "stdout",
     "output_type": "stream",
     "text": [
      "Explained variance of the SVD step: 81%\n",
      "28\n",
      "Homogeneity: 0.683054509047\n",
      "Completeness: 0.669019983102\n",
      "V-measure 0.675964406923\n",
      "Adjusted Rand-Index: 0.438066211887\n"
     ]
    }
   ],
   "source": [
    "aggl_clust(0.9, 0.20, (1,3), 65, 6)"
   ]
  },
  {
   "cell_type": "markdown",
   "metadata": {
    "collapsed": true
   },
   "source": [
    "Бросается в глаза, что для меньшего числа кластеров большую однородность дают метод спектрализации и аггломеративный метод. Кроме того, несильно, но все же вырастает Rand Index. Это позволяет предположить, что с помощью этих методов можно хотя бы примерно определить тематику событий в этих шести кластеров, чего для метода k-средних сказать нельзя. "
   ]
  },
  {
   "cell_type": "markdown",
   "metadata": {},
   "source": [
    "Ниже - не слишком симпатичное, но все-таки важное и интересное представление результатов аггломеративного разбиения на 6 кластеров: первая цифра в выводе - это номер кластера, созданного программой, а в круглых скобках - событие, отнесенное к нему и количество новостей по этой теме. Так, в первый кластер попали в основном новости об ураганах в Москве, терактах и митингах. В кластер 4 попали как новости о выборах, так и о спорте. В кластер 5 попали новости о смертях Евтушенко и Чуркина, Евровиденье, SpaceX, Исаакиевском соборе, кубке конфедераций, а также митингах и ураганах. С большой натяжкой этот кластер можно назвать посвященным новостям культуры, но в целом предположение о том, что при помощи такой кластеризации можно разбить события по темам, не оправдывается."
   ]
  },
  {
   "cell_type": "code",
   "execution_count": 18,
   "metadata": {
    "collapsed": true
   },
   "outputs": [],
   "source": [
    "text_list2 = text_list\n",
    "pipeline = Pipeline([\n",
    "      ('vect', CountVectorizer(max_df=0.9, min_df=0.20, ngram_range=(1,3), analyzer='word', stop_words ='english')),\n",
    "      ('tfidf', TfidfTransformer()),\n",
    "      ('svd', TruncatedSVD(n_components=65)),\n",
    "      ('norm', Normalizer() ),\n",
    "      ('clust', AgglomerativeClustering(n_clusters=6))\n",
    "])\n",
    "\n",
    "pipeline.fit(text_list2)\n",
    "explained_variance = pipeline.named_steps['svd'].explained_variance_ratio_.sum()\n",
    "clust_labels = pipeline.named_steps['clust'].labels_\n",
    "labels = df['event_id']"
   ]
  },
  {
   "cell_type": "code",
   "execution_count": 19,
   "metadata": {},
   "outputs": [
    {
     "name": "stdout",
     "output_type": "stream",
     "text": [
      "{0: [('теракт произошел в центре Лондона', 94), ('Теракт в Барселоне', 91), ('Ураган в Москве', 89), ('Митинг в москве против коррупции', 86), ('Акции протеста 12 июня', 72), ('Власти Петербурга согласились передать РПЦ Исаакиевский собор.', 66), ('В центре Киева был убит бывший депутат Госдумы РФ от КПРФ Денис Вороненков', 63), ('Вышел фильм Навального «он Вам не димон»', 43), ('SpaceX впервые в истории запустила и посадила уже летавшую ракету-носитель', 41), ('Кубок конфедерации FiFA', 18), ('Умер Дэвид рокфеллер', 10), ('Дональд Трамп вступил в должность президента США.', 9), ('Единый день голосования', 8), ('Митинг против Реновации в Москве', 6), ('Саммит G20', 6), ('Победа Макрона во Франции', 5), ('Парламентские выборы в Великобритании', 5), ('Юлию Самойлову не пустили на евровидении в Киеве', 3), ('Умер Евгений Евтушенко', 3), ('Тиллерсон посещает Москву и встречается с Путиным', 3), ('Премьер Медведев выступает перед депутатами Госдумы с отчетом об итогах работы правительства за 2016 год', 2), ('Чемпионат мира по хоккею', 2), ('Правительство внесло в Госдуму законопроект о курортных сборах', 1), ('Горячая линия Президента Путина', 1)], 4: [('Чемпионат мира по хоккею', 39), ('Власти Петербурга согласились передать РПЦ Исаакиевский собор.', 27), ('Кубок конфедерации FiFA', 24), ('Вышел фильм Навального «он Вам не димон»', 19), ('Юлию Самойлову не пустили на евровидении в Киеве', 19), ('Правительство внесло в Госдуму законопроект о курортных сборах', 14), ('В центре Киева был убит бывший депутат Госдумы РФ от КПРФ Денис Вороненков', 13), ('Митинг в москве против коррупции', 13), ('Акции протеста 12 июня', 13), ('Горячая линия Президента Путина', 11), ('Дональд Трамп вступил в должность президента США.', 10), ('Умер Евгений Евтушенко', 9), ('Тиллерсон посещает Москву и встречается с Путиным', 5), ('SpaceX впервые в истории запустила и посадила уже летавшую ракету-носитель', 3), ('Путин и Меркель в Сочи', 3), ('Теракт в Барселоне', 3), ('Победа Макрона во Франции', 2), ('Парламентские выборы в Великобритании', 2), ('Единый день голосования', 2), ('Скоропостижно скончался постпред России при ООН Виталий Чуркин.', 1), ('Умер Дэвид рокфеллер', 1), ('Несанкционированные акции в Москве апрель', 1), ('Митинг против Реновации в Москве', 1)], 5: [('Умер Евгений Евтушенко', 84), ('Скоропостижно скончался постпред России при ООН Виталий Чуркин.', 83), ('Умер Дэвид рокфеллер', 30), ('Юлию Самойлову не пустили на евровидении в Киеве', 5), ('SpaceX впервые в истории запустила и посадила уже летавшую ракету-носитель', 5), ('Власти Петербурга согласились передать РПЦ Исаакиевский собор.', 4), ('В центре Киева был убит бывший депутат Госдумы РФ от КПРФ Денис Вороненков', 4), ('Правительство внесло в Госдуму законопроект о курортных сборах', 3), ('Ураган в Москве', 3), ('Кубок конфедерации FiFA', 2), ('Дональд Трамп вступил в должность президента США.', 1), ('теракт произошел в центре Лондона', 1), ('Митинг против Реновации в Москве', 1), ('Горячая линия Президента Путина', 1)], 3: [('Саммит G20', 94), ('Путин и Меркель в Сочи', 92), ('Горячая линия Президента Путина', 49), ('Дональд Трамп вступил в должность президента США.', 22), ('Тиллерсон посещает Москву и встречается с Путиным', 14), ('Кубок конфедерации FiFA', 8), ('Несанкционированные акции в Москве апрель', 6), ('Акции протеста 12 июня', 6), ('теракт произошел в центре Лондона', 4), ('Умер Евгений Евтушенко', 4), ('Единый день голосования', 4), ('Власти Петербурга согласились передать РПЦ Исаакиевский собор.', 3), ('CNN показала фильм «Владимир Путин — самый влиятельный человек в мире».', 2), ('В центре Киева был убит бывший депутат Госдумы РФ от КПРФ Денис Вороненков', 2), ('Митинг в москве против коррупции', 1), ('Чемпионат мира по хоккею', 1)], 1: [('Единый день голосования', 80), ('Парламентские выборы в Великобритании', 74), ('Победа Макрона во Франции', 38), ('Кубок конфедерации FiFA', 37), ('Дональд Трамп вступил в должность президента США.', 9), ('Акции протеста 12 июня', 9), ('Правительство внесло в Госдуму законопроект о курортных сборах', 6), ('Ураган в Москве', 6), ('Теракт в Барселоне', 6), ('теракт произошел в центре Лондона', 1), ('Чемпионат мира по хоккею', 1)], 2: [('Правительство внесло в Госдуму законопроект о курортных сборах', 76), ('Чемпионат мира по хоккею', 59), ('Кубок конфедерации FiFA', 11), ('Путин и Меркель в Сочи', 5), ('Тиллерсон посещает Москву и встречается с Путиным', 2), ('Ураган в Москве', 2), ('Парламентские выборы в Великобритании', 1)]}\n"
     ]
    }
   ],
   "source": [
    "class TextProcessor():\n",
    "    def __init__(self):\n",
    "        self.ws = {}\n",
    "    def send(self, word):\n",
    "        if(not (word in self.ws)):\n",
    "            self.ws[word] = 0\n",
    "        self.ws[word] += 1\n",
    "    def words(self):\n",
    "        return self.ws\n",
    "    def sorted(self, count):\n",
    "        all = sorted(list(self.ws.items()), key=lambda w: -w[1])\n",
    "        return all[:count]\n",
    "realKeys = {}\n",
    "for i in range(len(clust_labels)):\n",
    "    if (not clust_labels[i] in realKeys):\n",
    "        realKeys[clust_labels[i]] = []\n",
    "    realKeys[clust_labels[i]].append(labels[i])\n",
    "realSorted = {}\n",
    "for k, v in realKeys.items():\n",
    "    proc = TextProcessor()\n",
    "    for w in v:\n",
    "        proc.send(w)\n",
    "    realSorted[k] = proc.sorted(100)\n",
    "    \n",
    "ef = pd.read_csv('events.csv', index_col=0)\n",
    "evs = {}\n",
    "for k in range(len(ef['name'])):\n",
    "     evs[k + 1] = ef['name'][k+1]\n",
    "        \n",
    "pretty = {}\n",
    "for k, v in realSorted.items():\n",
    "    pretty[k] = [(evs[e[0]], e[1]) for e in v]\n",
    "print(pretty)"
   ]
  },
  {
   "cell_type": "code",
   "execution_count": null,
   "metadata": {
    "collapsed": true
   },
   "outputs": [],
   "source": []
  }
 ],
 "metadata": {
  "kernelspec": {
   "display_name": "Python 3",
   "language": "python",
   "name": "python3"
  },
  "language_info": {
   "codemirror_mode": {
    "name": "ipython",
    "version": 3
   },
   "file_extension": ".py",
   "mimetype": "text/x-python",
   "name": "python",
   "nbconvert_exporter": "python",
   "pygments_lexer": "ipython3",
   "version": "3.6.7"
  }
 },
 "nbformat": 4,
 "nbformat_minor": 2
}
